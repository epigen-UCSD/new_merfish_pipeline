{
 "cells": [
  {
   "cell_type": "code",
   "execution_count": 1,
   "metadata": {},
   "outputs": [],
   "source": [
    "import numpy as np\n",
    "from ioMicro import read_im, get_best_translation_points"
   ]
  },
  {
   "cell_type": "code",
   "execution_count": 2,
   "metadata": {},
   "outputs": [],
   "source": [
    "import numpy as np\n",
    "from ioMicro import read_im, get_best_translation_points\n",
    "def get_best_translation_pointsV2(obj,obj_ref,resc=5):\n",
    "    \n",
    "    tzxyf,tzxy_plus,tzxy_minus,N_plus,N_minus = np.array([0,0,0]),np.array([0,0,0]),np.array([0,0,0]),0,0\n",
    "    if (len(obj[\"Xh_plus\"])>0) and (len(obj_ref[\"Xh_plus\"])>0):\n",
    "        X = obj[\"Xh_plus\"][:,:3]\n",
    "        X_ref = obj_ref[\"Xh_plus\"][:,:3]\n",
    "        tzxy_plus,N_plus = get_best_translation_points(X,X_ref,resc=resc,return_counts=True)\n",
    "    if (len(obj[\"Xh_minus\"])>0) and (len(obj_ref[\"Xh_minus\"])>0):\n",
    "        X = obj[\"Xh_minus\"][:,:3]\n",
    "        X_ref = obj_ref[\"Xh_minus\"][:,:3]\n",
    "        tzxy_minus,N_minus = get_best_translation_points(X,X_ref,resc=resc,return_counts=True)\n",
    "    if np.max(np.abs(tzxy_minus-tzxy_plus))<=2:\n",
    "        tzxyf = -(tzxy_plus*N_plus+tzxy_minus*N_minus)/(N_plus+N_minus)\n",
    "    else:\n",
    "        tzxyf = -[tzxy_plus,tzxy_minus][np.argmax([N_plus,N_minus])]\n",
    "    \n",
    "\n",
    "    return [tzxyf,tzxy_plus,tzxy_minus,N_plus,N_minus]"
   ]
  },
  {
   "cell_type": "code",
   "execution_count": 3,
   "metadata": {},
   "outputs": [],
   "source": [
    "def get_counts(Xh, mask, dapi_features, seg_features, df, gene):\n",
    "    Xh_ = Xh[Xh[:,-4] > 0.75]\n",
    "    Xh_ = Xh[Xh[:,-1] > 5500]\n",
    "    drift = get_best_translation_pointsV2(dapi_features, seg_features)\n",
    "    factors = mask[\"segm\"].shape / mask[\"shape\"]\n",
    "    coords = (Xh_[:,:3] + drift[0]) * factors\n",
    "    coords = coords[~np.any(coords.astype(int) >= mask[\"segm\"].shape, axis=1)]\n",
    "    ids = mask[\"segm\"][tuple(coords.T.astype(int))]\n",
    "    res = np.unique(ids, return_counts=True)\n",
    "    df.loc[res[0][1:], gene] = res[1][1:]"
   ]
  },
  {
   "cell_type": "code",
   "execution_count": 6,
   "metadata": {},
   "outputs": [
    {
     "name": "stderr",
     "output_type": "stream",
     "text": [
      " 56%|█████▌    | 559/1000 [1:33:32<1:13:47, 10.04s/it]\n"
     ]
    },
    {
     "ename": "FileNotFoundError",
     "evalue": "[Errno 2] No such file or directory: '/mnt/merfish20/20240712_R144BICAN2kgene_DCSSPlate1_analysis/segmentation/Segmentation/Conv_zscan__559--H0--dapi_segm.npz'",
     "output_type": "error",
     "traceback": [
      "\u001b[0;31m---------------------------------------------------------------------------\u001b[0m",
      "\u001b[0;31mFileNotFoundError\u001b[0m                         Traceback (most recent call last)",
      "\u001b[0;32m/tmp/ipykernel_1967685/1666231094.py\u001b[0m in \u001b[0;36m<module>\u001b[0;34m\u001b[0m\n\u001b[1;32m      5\u001b[0m \u001b[0;32mfor\u001b[0m \u001b[0mifov\u001b[0m \u001b[0;32min\u001b[0m \u001b[0mtqdm\u001b[0m\u001b[0;34m(\u001b[0m\u001b[0mrange\u001b[0m\u001b[0;34m(\u001b[0m\u001b[0;36m0\u001b[0m\u001b[0;34m,\u001b[0m\u001b[0;36m1000\u001b[0m\u001b[0;34m)\u001b[0m\u001b[0;34m)\u001b[0m\u001b[0;34m:\u001b[0m\u001b[0;34m\u001b[0m\u001b[0;34m\u001b[0m\u001b[0m\n\u001b[1;32m      6\u001b[0m     \u001b[0mfov\u001b[0m \u001b[0;34m=\u001b[0m \u001b[0;34mf\"Conv_zscan__{ifov:03d}\"\u001b[0m\u001b[0;34m\u001b[0m\u001b[0;34m\u001b[0m\u001b[0m\n\u001b[0;32m----> 7\u001b[0;31m     \u001b[0mmask\u001b[0m \u001b[0;34m=\u001b[0m \u001b[0mnp\u001b[0m\u001b[0;34m.\u001b[0m\u001b[0mload\u001b[0m\u001b[0;34m(\u001b[0m\u001b[0;34mf\"/mnt/merfish20/20240712_R144BICAN2kgene_DCSSPlate1_analysis/segmentation/Segmentation/{fov}--H0--dapi_segm.npz\"\u001b[0m\u001b[0;34m)\u001b[0m\u001b[0;34m\u001b[0m\u001b[0;34m\u001b[0m\u001b[0m\n\u001b[0m\u001b[1;32m      8\u001b[0m     \u001b[0mseg_features\u001b[0m \u001b[0;34m=\u001b[0m \u001b[0mnp\u001b[0m\u001b[0;34m.\u001b[0m\u001b[0mload\u001b[0m\u001b[0;34m(\u001b[0m\u001b[0;34mf\"/mnt/merfish20/20240712_R144BICAN2kgene_DCSSPlate1_analysis/segmentation/Segmentation/H0/{fov}--H0--dapiFeatures.npz\"\u001b[0m\u001b[0;34m)\u001b[0m\u001b[0;34m\u001b[0m\u001b[0;34m\u001b[0m\u001b[0m\n\u001b[1;32m      9\u001b[0m     \u001b[0mim\u001b[0m\u001b[0;34m,\u001b[0m \u001b[0mfovx\u001b[0m\u001b[0;34m,\u001b[0m \u001b[0mfovy\u001b[0m \u001b[0;34m=\u001b[0m \u001b[0mread_im\u001b[0m\u001b[0;34m(\u001b[0m\u001b[0;34mf\"/mnt/merfish17/20240712_R144BICAN2kgene/smFISH/H1_Oligo2_Cux2_SLC17/{fov}.zarr\"\u001b[0m\u001b[0;34m,\u001b[0m \u001b[0mreturn_pos\u001b[0m\u001b[0;34m=\u001b[0m\u001b[0;32mTrue\u001b[0m\u001b[0;34m)\u001b[0m\u001b[0;34m\u001b[0m\u001b[0;34m\u001b[0m\u001b[0m\n",
      "\u001b[0;32m~/anaconda3/lib/python3.9/site-packages/numpy/lib/npyio.py\u001b[0m in \u001b[0;36mload\u001b[0;34m(file, mmap_mode, allow_pickle, fix_imports, encoding, max_header_size)\u001b[0m\n\u001b[1;32m    403\u001b[0m             \u001b[0mown_fid\u001b[0m \u001b[0;34m=\u001b[0m \u001b[0;32mFalse\u001b[0m\u001b[0;34m\u001b[0m\u001b[0;34m\u001b[0m\u001b[0m\n\u001b[1;32m    404\u001b[0m         \u001b[0;32melse\u001b[0m\u001b[0;34m:\u001b[0m\u001b[0;34m\u001b[0m\u001b[0;34m\u001b[0m\u001b[0m\n\u001b[0;32m--> 405\u001b[0;31m             \u001b[0mfid\u001b[0m \u001b[0;34m=\u001b[0m \u001b[0mstack\u001b[0m\u001b[0;34m.\u001b[0m\u001b[0menter_context\u001b[0m\u001b[0;34m(\u001b[0m\u001b[0mopen\u001b[0m\u001b[0;34m(\u001b[0m\u001b[0mos_fspath\u001b[0m\u001b[0;34m(\u001b[0m\u001b[0mfile\u001b[0m\u001b[0;34m)\u001b[0m\u001b[0;34m,\u001b[0m \u001b[0;34m\"rb\"\u001b[0m\u001b[0;34m)\u001b[0m\u001b[0;34m)\u001b[0m\u001b[0;34m\u001b[0m\u001b[0;34m\u001b[0m\u001b[0m\n\u001b[0m\u001b[1;32m    406\u001b[0m             \u001b[0mown_fid\u001b[0m \u001b[0;34m=\u001b[0m \u001b[0;32mTrue\u001b[0m\u001b[0;34m\u001b[0m\u001b[0;34m\u001b[0m\u001b[0m\n\u001b[1;32m    407\u001b[0m \u001b[0;34m\u001b[0m\u001b[0m\n",
      "\u001b[0;31mFileNotFoundError\u001b[0m: [Errno 2] No such file or directory: '/mnt/merfish20/20240712_R144BICAN2kgene_DCSSPlate1_analysis/segmentation/Segmentation/Conv_zscan__559--H0--dapi_segm.npz'"
     ]
    }
   ],
   "source": [
    "from tqdm import tqdm\n",
    "from skimage import measure\n",
    "import pandas as pd\n",
    "dfs = []\n",
    "for ifov in tqdm(range(0,1000)):\n",
    "    fov = f\"Conv_zscan__{ifov:03d}\"\n",
    "    mask = np.load(f\"/mnt/merfish20/20240712_R144BICAN2kgene_DCSSPlate1_analysis/segmentation/Segmentation/{fov}--H0--dapi_segm.npz\")\n",
    "    seg_features = np.load(f\"/mnt/merfish20/20240712_R144BICAN2kgene_DCSSPlate1_analysis/segmentation/Segmentation/H0/{fov}--H0--dapiFeatures.npz\")\n",
    "    im, fovx, fovy = read_im(f\"/mnt/merfish17/20240712_R144BICAN2kgene/smFISH/H1_Oligo2_Cux2_SLC17/{fov}.zarr\", return_pos=True)\n",
    "    df = pd.DataFrame(measure.regionprops_table(mask[\"segm\"], properties=[\"label\", \"area\", \"centroid\"]))\n",
    "    df[\"fovx\"] = fovx\n",
    "    df[\"fovy\"] = fovy\n",
    "    df = df.set_index(\"label\")\n",
    "    try:\n",
    "        dapi_features = np.load(f\"/mnt/merfish17/20240712_R144BICAN2kgene/smFISH_analysis/{fov}--H1_Oligo2_Cux2_SLC17--dapiFeatures.npz\")\n",
    "        Xh = np.load(f\"/mnt/merfish17/20240712_R144BICAN2kgene/smFISH_analysis/{fov}--H1_Oligo2_Cux2_SLC17--col0__Xhfits.npz\")[\"Xh\"]\n",
    "        get_counts(Xh, mask, dapi_features, seg_features, df, \"Oligo2\")\n",
    "\n",
    "        Xh = np.load(f\"/mnt/merfish17/20240712_R144BICAN2kgene/smFISH_analysis/{fov}--H1_Oligo2_Cux2_SLC17--col1__Xhfits.npz\")[\"Xh\"]\n",
    "        get_counts(Xh, mask, dapi_features, seg_features, df, \"Cux2\")\n",
    "\n",
    "        Xh = np.load(f\"/mnt/merfish17/20240712_R144BICAN2kgene/smFISH_analysis/{fov}--H1_Oligo2_Cux2_SLC17--col2__Xhfits.npz\")[\"Xh\"]\n",
    "        get_counts(Xh, mask, dapi_features, seg_features, df, \"Slc17\")\n",
    "\n",
    "        dapi_features = np.load(f\"/mnt/merfish17/20240712_R144BICAN2kgene/smFISH_analysis/{fov}--H2_GAD1_RELN_BRCA--dapiFeatures.npz\")\n",
    "        Xh = np.load(f\"/mnt/merfish17/20240712_R144BICAN2kgene/smFISH_analysis/{fov}--H2_GAD1_RELN_BRCA--col0__Xhfits.npz\")[\"Xh\"]\n",
    "        get_counts(Xh, mask, dapi_features, seg_features, df, \"Gad1\")\n",
    "\n",
    "        Xh = np.load(f\"/mnt/merfish17/20240712_R144BICAN2kgene/smFISH_analysis/{fov}--H2_GAD1_RELN_BRCA--col1__Xhfits.npz\")[\"Xh\"]\n",
    "        get_counts(Xh, mask, dapi_features, seg_features, df, \"Reln\")\n",
    "\n",
    "        Xh = np.load(f\"/mnt/merfish17/20240712_R144BICAN2kgene/smFISH_analysis/{fov}--H2_GAD1_RELN_BRCA--col2__Xhfits.npz\")[\"Xh\"]\n",
    "        get_counts(Xh, mask, dapi_features, seg_features, df, \"Brca\")\n",
    "    except FileNotFoundError:\n",
    "        continue\n",
    "    df.index = df.index + 10000*ifov\n",
    "    df = df.fillna(0)\n",
    "    dfs.append(df)\n"
   ]
  },
  {
   "cell_type": "code",
   "execution_count": 7,
   "metadata": {},
   "outputs": [],
   "source": [
    "table = pd.concat(dfs)"
   ]
  },
  {
   "cell_type": "code",
   "execution_count": 8,
   "metadata": {},
   "outputs": [],
   "source": [
    "table.to_csv(\"R144_smfish2.csv\")"
   ]
  },
  {
   "cell_type": "code",
   "execution_count": 13,
   "metadata": {},
   "outputs": [],
   "source": [
    "import pandas as pd\n",
    "table = pd.read_csv(\"R144_smfish.csv\", index_col=0)"
   ]
  },
  {
   "cell_type": "code",
   "execution_count": null,
   "metadata": {},
   "outputs": [],
   "source": [
    "mask[\"segm\"].shape"
   ]
  },
  {
   "cell_type": "code",
   "execution_count": null,
   "metadata": {},
   "outputs": [],
   "source": [
    "3000*0.108"
   ]
  },
  {
   "cell_type": "code",
   "execution_count": 39,
   "metadata": {},
   "outputs": [],
   "source": [
    "table[\"global_x\"] = (1 - table[\"centroid-1\"] / 683) * 220 + table[\"fovx\"]\n",
    "table[\"global_y\"] = (table[\"centroid-2\"] / 683) * 220 + table[\"fovy\"]"
   ]
  },
  {
   "cell_type": "code",
   "execution_count": null,
   "metadata": {},
   "outputs": [],
   "source": [
    "plt.figure(dpi=150)\n",
    "plt.scatter(table[\"global_x\"], table[\"global_y\"], c=table[\"Brca\"], s=1, cmap=\"coolwarm\", vmax=20)"
   ]
  },
  {
   "cell_type": "code",
   "execution_count": null,
   "metadata": {},
   "outputs": [],
   "source": [
    "import scanpy as sc\n",
    "adata = sc.AnnData(table[[\"Oligo2\", \"Cux2\", \"Slc17\", \"Gad1\", \"Reln\", \"Brca\"]])\n",
    "adata.obs = table.drop(columns=adata.var_names)"
   ]
  },
  {
   "cell_type": "code",
   "execution_count": 18,
   "metadata": {},
   "outputs": [],
   "source": [
    "adata.obsm[\"X_spatial\"] = adata.obs[[\"global_x\", \"global_y\"]].to_numpy()"
   ]
  },
  {
   "cell_type": "code",
   "execution_count": 19,
   "metadata": {},
   "outputs": [],
   "source": [
    "adata.obs_names = adata.obs_names.astype(str)"
   ]
  },
  {
   "cell_type": "code",
   "execution_count": null,
   "metadata": {},
   "outputs": [],
   "source": [
    "adata.var_names"
   ]
  },
  {
   "cell_type": "code",
   "execution_count": null,
   "metadata": {},
   "outputs": [],
   "source": [
    "adata.obsm[\"X_spatial\"].max(axis=0) - adata.obsm[\"X_spatial\"].min(axis=0)"
   ]
  },
  {
   "cell_type": "code",
   "execution_count": 23,
   "metadata": {},
   "outputs": [],
   "source": [
    "adata.obsm[\"X_spatial\"] = adata.obsm[\"X_spatial\"][:,[1,0]]"
   ]
  },
  {
   "cell_type": "code",
   "execution_count": 25,
   "metadata": {},
   "outputs": [],
   "source": [
    "adata.obsm[\"X_spatial\"] = adata.obsm[\"X_spatial\"] * [1,-1]"
   ]
  },
  {
   "cell_type": "code",
   "execution_count": null,
   "metadata": {},
   "outputs": [],
   "source": [
    "import matplotlib.pyplot as plt\n",
    "sc.set_figure_params(figsize=(4.481, 7.055), dpi=150, facecolor=\"black\")\n",
    "plt.style.use(\"dark_background\")\n",
    "sc.pl.embedding(adata, basis=\"X_spatial\", color=[\"Oligo2\", \"Cux2\", \"Slc17\", \"Gad1\", \"Reln\", \"Brca\"], ncols=3, cmap=\"coolwarm\", vmax=\"p95\", s=15, frameon=False)"
   ]
  },
  {
   "cell_type": "code",
   "execution_count": null,
   "metadata": {},
   "outputs": [],
   "source": [
    "from skimage import measure\n",
    "import pandas as pd\n",
    "pd.DataFrame(measure.regionprops_table(mask[\"segm\"], properties=[\"label\", \"area\", \"centroid\"]))"
   ]
  },
  {
   "cell_type": "code",
   "execution_count": 58,
   "metadata": {},
   "outputs": [],
   "source": [
    "Xh_ = Xh[Xh[:,-4] > 0.75]\n",
    "Xh_ = Xh[Xh[:,-1] > 5000]"
   ]
  },
  {
   "cell_type": "code",
   "execution_count": null,
   "metadata": {},
   "outputs": [],
   "source": [
    "drift = get_best_translation_pointsV2(dapi_features, seg_features)\n",
    "drift"
   ]
  },
  {
   "cell_type": "code",
   "execution_count": 67,
   "metadata": {},
   "outputs": [],
   "source": [
    "factors = mask[\"segm\"].shape / mask[\"shape\"]\n",
    "coords = (Xh[:,:3] + drift[0]) * factors"
   ]
  },
  {
   "cell_type": "code",
   "execution_count": 80,
   "metadata": {},
   "outputs": [],
   "source": [
    "coords = coords[~np.any(coords.astype(int) >= mask[\"segm\"].shape, axis=1)]"
   ]
  },
  {
   "cell_type": "code",
   "execution_count": null,
   "metadata": {},
   "outputs": [],
   "source": [
    "\n",
    "res = np.unique(mask[\"segm\"][tuple(coords.T.astype(int))], return_counts=True)\n"
   ]
  },
  {
   "cell_type": "code",
   "execution_count": null,
   "metadata": {},
   "outputs": [],
   "source": [
    "import matplotlib.pyplot as plt\n",
    "plt.figure(figsize=(50,50))\n",
    "plt.imshow(im[2].max(axis=0), cmap=\"gray\", vmax=5000, vmin=1000)\n",
    "plt.scatter(Xh_[:,2], Xh_[:,1], facecolor=\"none\", edgecolor=\"tab:red\")"
   ]
  },
  {
   "cell_type": "code",
   "execution_count": 27,
   "metadata": {},
   "outputs": [],
   "source": [
    "import scanpy as sc\n",
    "adata2 = sc.read(\"/mnt/merfish20/R144dataframes/scdata_BICCN_R144_DCSSP1P2P3_th-1.h5ad\") #compare with MERFISH"
   ]
  },
  {
   "cell_type": "code",
   "execution_count": 28,
   "metadata": {},
   "outputs": [],
   "source": [
    "adata2.layers[\"counts\"] = adata2.obsm[\"X_raw\"]"
   ]
  },
  {
   "cell_type": "code",
   "execution_count": 29,
   "metadata": {},
   "outputs": [],
   "source": [
    "adata2.obsm[\"X_spatial\"] = adata2.obsm[\"X_spatial\"][:,[1,0]]"
   ]
  },
  {
   "cell_type": "code",
   "execution_count": null,
   "metadata": {},
   "outputs": [],
   "source": [
    "[x for x in adata2.var_names if \"OLIG\" in x]"
   ]
  },
  {
   "cell_type": "code",
   "execution_count": null,
   "metadata": {},
   "outputs": [],
   "source": [
    "import matplotlib.pyplot as plt\n",
    "sc.set_figure_params(figsize=(4.481, 7.055), dpi=150, facecolor=\"black\")\n",
    "plt.style.use(\"dark_background\")\n",
    "sc.pl.embedding(adata2, basis=\"X_spatial\", color=[\"OLIG2\", \"CUX2\", \"SLC17A7\", \"GAD1\", \"RELN\", \"BRCA1\"], ncols=3, cmap=\"coolwarm\", vmax=\"p95\", s=15, frameon=False)"
   ]
  },
  {
   "cell_type": "code",
   "execution_count": null,
   "metadata": {},
   "outputs": [],
   "source": [
    "sc.pl.embedding(adata2, basis=\"X_spatial\", color=[\"OLIG2\", \"GAD1\", \"RELN\"], cmap=\"Reds\", vmax=\"p95\", s=15)#, layer=\"counts\")"
   ]
  },
  {
   "cell_type": "code",
   "execution_count": null,
   "metadata": {},
   "outputs": [],
   "source": [
    "adata.obs_names"
   ]
  },
  {
   "cell_type": "code",
   "execution_count": null,
   "metadata": {},
   "outputs": [],
   "source": []
  }
 ],
 "metadata": {
  "kernelspec": {
   "display_name": "base",
   "language": "python",
   "name": "python3"
  },
  "language_info": {
   "codemirror_mode": {
    "name": "ipython",
    "version": 3
   },
   "file_extension": ".py",
   "mimetype": "text/x-python",
   "name": "python",
   "nbconvert_exporter": "python",
   "pygments_lexer": "ipython3",
   "version": "3.9.13"
  }
 },
 "nbformat": 4,
 "nbformat_minor": 2
}
